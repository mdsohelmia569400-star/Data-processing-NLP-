{
  "nbformat": 4,
  "nbformat_minor": 0,
  "metadata": {
    "colab": {
      "provenance": []
    },
    "kernelspec": {
      "name": "python3",
      "display_name": "Python 3"
    }
  },
  "cells": [
    {
      "cell_type": "code",
      "metadata": {
        "id": "u9hXx1ohBl7j"
      },
      "source": [
        "from sklearn.feature_extraction.text import CountVectorizer\n",
        "# list of text documents\n",
        "text = [\"The quick brown fox jumped over the lazy dog.\"]"
      ],
      "execution_count": null,
      "outputs": []
    },
    {
      "cell_type": "code",
      "metadata": {
        "id": "RalxdJEgByB4",
        "colab": {
          "base_uri": "https://localhost:8080/"
        },
        "outputId": "ae3e7e9d-2f5c-463b-85aa-245d99b8c231"
      },
      "source": [
        "# create the transform\n",
        "vectorizer = CountVectorizer()\n",
        "# tokenize and build vocab\n",
        "vectorizer.fit(text)\n",
        "# summarize\n",
        "print(vectorizer.vocabulary_)\n"
      ],
      "execution_count": null,
      "outputs": [
        {
          "output_type": "stream",
          "name": "stdout",
          "text": [
            "{'the': 7, 'quick': 6, 'brown': 0, 'fox': 2, 'jumped': 3, 'over': 5, 'lazy': 4, 'dog': 1}\n"
          ]
        }
      ]
    },
    {
      "cell_type": "code",
      "metadata": {
        "id": "4r-Obvt-B0E2",
        "colab": {
          "base_uri": "https://localhost:8080/"
        },
        "outputId": "16d37b35-51c8-4ac1-8ea3-6f36e1a584af"
      },
      "source": [
        "# encode document\n",
        "vector = vectorizer.transform(text)\n",
        "# summarize encoded vector\n",
        "print(vector.shape)\n",
        "print(type(vector))\n",
        "print(vector.toarray())"
      ],
      "execution_count": null,
      "outputs": [
        {
          "output_type": "stream",
          "name": "stdout",
          "text": [
            "(1, 8)\n",
            "<class 'scipy.sparse._csr.csr_matrix'>\n",
            "[[1 1 1 1 1 1 1 2]]\n"
          ]
        }
      ]
    },
    {
      "cell_type": "code",
      "metadata": {
        "id": "oyYNtZHqB2lV"
      },
      "source": [],
      "execution_count": null,
      "outputs": []
    },
    {
      "cell_type": "code",
      "metadata": {
        "id": "_UHuDKDSdjE_"
      },
      "source": [],
      "execution_count": null,
      "outputs": []
    },
    {
      "cell_type": "code",
      "metadata": {
        "id": "1eRdJbGkdjUs"
      },
      "source": [],
      "execution_count": null,
      "outputs": []
    },
    {
      "cell_type": "code",
      "metadata": {
        "id": "UHvhSnRedjhM"
      },
      "source": [],
      "execution_count": null,
      "outputs": []
    },
    {
      "cell_type": "code",
      "metadata": {
        "id": "u5PdY09-B4Y-"
      },
      "source": [
        "import numpy as np\n",
        "import re\n",
        "\n",
        "'''The first function we will implement is to extract the words from a document using regular expressions.\n",
        " As we do so, we will be converting all words to lower case and exclude our stop words.'''\n",
        "\n",
        "def tokenize_sentences(sentences):\n",
        "    words = []\n",
        "    for sentence in sentences:\n",
        "        w = extract_words(sentence)\n",
        "        words.extend(w)\n",
        "\n",
        "    words = sorted(list(set(words)))\n",
        "    return words"
      ],
      "execution_count": null,
      "outputs": []
    },
    {
      "cell_type": "code",
      "metadata": {
        "id": "OwK13TqNB611"
      },
      "source": [
        "'''Next, we implement our tokenize_sentences function. This function builds our vocabulary by looping through\n",
        " all our documents (sentences), extracting the words from each, removing duplicates using the set function and\n",
        " returning a sorted list of words.'''\n",
        "\n",
        "def extract_words(sentence):\n",
        "    ignore_words = ['a']\n",
        "    words = re.sub(\"[^w]\", \" \",  sentence).split() #nltk.word_tokenize(sentence)\n",
        "    words_cleaned = [w.lower() for w in words if w not in ignore_words]\n",
        "    return words_cleaned"
      ],
      "execution_count": null,
      "outputs": []
    },
    {
      "cell_type": "code",
      "metadata": {
        "id": "bKrBOqp8B8Dl"
      },
      "source": [
        "def bagofwords(sentence, words):\n",
        "    sentence_words = extract_words(sentence)\n",
        "    # frequency word count\n",
        "    bag = np.zeros(len(words))\n",
        "    for sw in sentence_words:\n",
        "        for i,word in enumerate(words):\n",
        "            if word == sw:\n",
        "                bag[i] += 1\n",
        "\n",
        "    return np.array(bag)"
      ],
      "execution_count": null,
      "outputs": []
    },
    {
      "cell_type": "code",
      "metadata": {
        "id": "8S8NULCRB-F1"
      },
      "source": [
        "'''Our last function is the implementation of the bag of words model. This function takes an input of a sentence\n",
        "and words (our vocabulary). It then extracts the words from the input sentence using the previously defined function.\n",
        "It creates a vector of zeros using numpy zeros function with a length of the number of words in our vocabulary.'''\n",
        "\n",
        "\n",
        "sentences = [\"Machine learning is great\",\"Natural Language Processing is a complex field\",\n",
        "\"Natural Language Processing is used in machine learning\"]"
      ],
      "execution_count": null,
      "outputs": []
    },
    {
      "cell_type": "code",
      "metadata": {
        "id": "fuR2rb3OCDB1",
        "colab": {
          "base_uri": "https://localhost:8080/"
        },
        "outputId": "e6ea9dc8-8e39-4d90-d314-c3e8b867c1cf"
      },
      "source": [
        "vocabulary = tokenize_sentences(sentences)\n",
        "bagofwords(\"Machine learning is great\", vocabulary)\n",
        "\n",
        "from sklearn.feature_extraction.text import CountVectorizer\n",
        "\n",
        "vectorizer = CountVectorizer(analyzer = \"word\", tokenizer = None, preprocessor = None, stop_words = None, max_features = 5000)\n",
        "\n",
        "train_data_features = vectorizer.fit_transform(sentences)\n",
        "\n",
        "vectorizer.transform([\"Machine learning is great\",\"Natural Language Processing is a complex field\",\n",
        "\"Natural Language Processing is used in machine learning\"]).toarray()\n"
      ],
      "execution_count": null,
      "outputs": [
        {
          "output_type": "execute_result",
          "data": {
            "text/plain": [
              "array([[0, 0, 1, 0, 1, 0, 1, 1, 0, 0, 0],\n",
              "       [1, 1, 0, 0, 1, 1, 0, 0, 1, 1, 0],\n",
              "       [0, 0, 0, 1, 1, 1, 1, 1, 1, 1, 1]])"
            ]
          },
          "metadata": {},
          "execution_count": 8
        }
      ]
    },
    {
      "cell_type": "code",
      "metadata": {
        "id": "kdZkFZG9C9HH"
      },
      "source": [
        "#________________________________********************__________________________"
      ],
      "execution_count": null,
      "outputs": []
    },
    {
      "cell_type": "code",
      "metadata": {
        "id": "c5glpb9LIixv"
      },
      "source": [],
      "execution_count": null,
      "outputs": []
    }
  ]
}