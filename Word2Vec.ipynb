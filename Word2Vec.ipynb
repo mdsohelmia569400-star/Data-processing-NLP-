{
  "nbformat": 4,
  "nbformat_minor": 0,
  "metadata": {
    "colab": {
      "provenance": []
    },
    "kernelspec": {
      "name": "python3",
      "display_name": "Python 3"
    },
    "language_info": {
      "name": "python"
    }
  },
  "cells": [
    {
      "cell_type": "code",
      "execution_count": null,
      "metadata": {
        "id": "XTIrWCdsasL3"
      },
      "outputs": [],
      "source": [
        "import nltk\n",
        "from nltk.tokenize import sent_tokenize, word_tokenize\n",
        "from gensim.models import Word2Vec\n",
        "import warnings\n",
        "warnings.filterwarnings(\"ignore\")\n"
      ]
    },
    {
      "cell_type": "code",
      "source": [
        "print(\"NLTK version:\", nltk.__version__)\n",
        "import gensim\n",
        "print(\"Gensim version:\", gensim.__version__)\n"
      ],
      "metadata": {
        "colab": {
          "base_uri": "https://localhost:8080/"
        },
        "id": "rPj9XrqcbcRR",
        "outputId": "c6aa99a6-b8f8-4a83-d2a7-92b3061be124"
      },
      "execution_count": null,
      "outputs": [
        {
          "output_type": "stream",
          "name": "stdout",
          "text": [
            "NLTK version: 3.9.1\n",
            "Gensim version: 4.3.3\n"
          ]
        }
      ]
    },
    {
      "cell_type": "code",
      "source": [
        "# -----------------------------\n",
        "# Step 0: Install & Import Libraries\n",
        "# -----------------------------\n",
        "!pip install nltk gensim"
      ],
      "metadata": {
        "colab": {
          "base_uri": "https://localhost:8080/"
        },
        "id": "TYLtUBYcbkeZ",
        "outputId": "e6620c34-03fc-4c3b-d7dc-c1bc100b63c6"
      },
      "execution_count": null,
      "outputs": [
        {
          "output_type": "stream",
          "name": "stdout",
          "text": [
            "Requirement already satisfied: nltk in /usr/local/lib/python3.11/dist-packages (3.9.1)\n",
            "Requirement already satisfied: gensim in /usr/local/lib/python3.11/dist-packages (4.3.3)\n",
            "Requirement already satisfied: click in /usr/local/lib/python3.11/dist-packages (from nltk) (8.2.1)\n",
            "Requirement already satisfied: joblib in /usr/local/lib/python3.11/dist-packages (from nltk) (1.5.1)\n",
            "Requirement already satisfied: regex>=2021.8.3 in /usr/local/lib/python3.11/dist-packages (from nltk) (2024.11.6)\n",
            "Requirement already satisfied: tqdm in /usr/local/lib/python3.11/dist-packages (from nltk) (4.67.1)\n",
            "Requirement already satisfied: numpy<2.0,>=1.18.5 in /usr/local/lib/python3.11/dist-packages (from gensim) (1.26.4)\n",
            "Requirement already satisfied: scipy<1.14.0,>=1.7.0 in /usr/local/lib/python3.11/dist-packages (from gensim) (1.13.1)\n",
            "Requirement already satisfied: smart-open>=1.8.1 in /usr/local/lib/python3.11/dist-packages (from gensim) (7.3.0.post1)\n",
            "Requirement already satisfied: wrapt in /usr/local/lib/python3.11/dist-packages (from smart-open>=1.8.1->gensim) (1.17.3)\n"
          ]
        }
      ]
    },
    {
      "cell_type": "code",
      "source": [
        "# Install gensim\n",
        "!pip install gensim\n",
        "\n",
        "from gensim.models import Word2Vec\n",
        "import warnings\n",
        "warnings.filterwarnings(\"ignore\")\n",
        "\n",
        "# -----------------------------\n",
        "# Step 1: Sample Text\n",
        "# -----------------------------\n",
        "text = \"\"\"King is a strong man.\n",
        "Queen is a wise woman.\n",
        "The man loves son his .\n",
        "The woman loves her daughter.\n",
        "Football is a popular game.\n",
        "Cricket is also a popular game.\n",
        "I love to play football and cricket.\"\"\"\n",
        "\n",
        "# -----------------------------\n",
        "# Step 2: Simple Tokenization (without NLTK)\n",
        "# -----------------------------\n",
        "# Split sentences by period\n",
        "sentences = [sent.strip() for sent in text.split('.') if sent]\n",
        "\n",
        "# Split words by space\n",
        "data = [sent.lower().split() for sent in sentences]\n",
        "print(\"Tokenized Sentences:\", data)\n",
        "\n",
        "# -----------------------------\n",
        "# Step 3: Train Word2Vec (Skip-Gram)\n",
        "# -----------------------------\n",
        "\n",
        "# sg=1 → Skip-Gram, vector_size=50, window=3\n",
        "model = Word2Vec(sentences=data, vector_size=50, window=3, min_count=1, sg=1)\n",
        "# -----------------------------\n",
        "# Step 4: Explore Embeddings\n",
        "# -----------------------------\n",
        "# Vector of a word\n",
        "print(\"\\nVector for 'king':\\n\", model.wv['king'])\n",
        "\n",
        "# Most similar words\n",
        "print(\"\\nMost similar to 'king':\\n\", model.wv.most_similar('king'))\n",
        "print(\"\\nMost similar to 'queen':\\n\", model.wv.most_similar('queen'))\n",
        "\n",
        "# Word Analogy: king - man + woman ≈ queen\n",
        "result = model.wv.most_similar(positive=['king','woman'], negative=['man'])\n",
        "print(\"\\nking - man + woman ≈\", result[0][0])\n"
      ],
      "metadata": {
        "colab": {
          "base_uri": "https://localhost:8080/"
        },
        "id": "K9hbA7Imb4i5",
        "outputId": "27c3f528-e28c-47e4-c73f-82b197389d02"
      },
      "execution_count": null,
      "outputs": [
        {
          "output_type": "stream",
          "name": "stdout",
          "text": [
            "Requirement already satisfied: gensim in /usr/local/lib/python3.11/dist-packages (4.3.3)\n",
            "Requirement already satisfied: numpy<2.0,>=1.18.5 in /usr/local/lib/python3.11/dist-packages (from gensim) (1.26.4)\n",
            "Requirement already satisfied: scipy<1.14.0,>=1.7.0 in /usr/local/lib/python3.11/dist-packages (from gensim) (1.13.1)\n",
            "Requirement already satisfied: smart-open>=1.8.1 in /usr/local/lib/python3.11/dist-packages (from gensim) (7.3.0.post1)\n",
            "Requirement already satisfied: wrapt in /usr/local/lib/python3.11/dist-packages (from smart-open>=1.8.1->gensim) (1.17.3)\n",
            "Tokenized Sentences: [['king', 'is', 'a', 'strong', 'man'], ['queen', 'is', 'a', 'wise', 'woman'], ['the', 'man', 'loves', 'his', 'son'], ['the', 'woman', 'loves', 'her', 'daughter'], ['football', 'is', 'a', 'popular', 'game'], ['cricket', 'is', 'also', 'a', 'popular', 'game'], ['i', 'love', 'to', 'play', 'football', 'and', 'cricket']]\n",
            "\n",
            "Vector for 'king':\n",
            " [ 0.00537478 -0.0106874   0.01318018  0.00901493 -0.0141148  -0.00065357\n",
            "  0.00166816  0.0115088  -0.00343281 -0.00562524  0.00350506  0.00169199\n",
            "  0.0023988  -0.00527574 -0.01196365  0.0146504   0.01517625  0.01658995\n",
            " -0.01719893  0.00525676 -0.00711851  0.01924172  0.00581738  0.00928841\n",
            "  0.00476644  0.01322262 -0.01149393  0.01578903 -0.00481947 -0.00911821\n",
            " -0.00412173  0.01947614 -0.01369884 -0.00437175  0.01400478 -0.00010161\n",
            " -0.0125812  -0.01278142  0.01787524  0.01286082  0.00955068 -0.00652414\n",
            " -0.01854796  0.00758107  0.01431988 -0.01127248 -0.01572815 -0.00595382\n",
            " -0.00987457 -0.00463428]\n",
            "\n",
            "Most similar to 'king':\n",
            " [('son', 0.39454400539398193), ('strong', 0.30644550919532776), ('game', 0.20487099885940552), ('is', 0.18607018887996674), ('loves', 0.1438795030117035), ('queen', 0.142526313662529), ('his', 0.1087372750043869), ('woman', 0.09559207409620285), ('i', 0.09547968953847885), ('the', 0.08248487859964371)]\n",
            "\n",
            "Most similar to 'queen':\n",
            " [('man', 0.19001369178295135), ('son', 0.18866485357284546), ('strong', 0.17461520433425903), ('king', 0.142526313662529), ('football', 0.11542727798223495), ('game', 0.10159145295619965), ('a', 0.0805368423461914), ('is', 0.0407295897603035), ('i', 0.025397444143891335), ('daughter', 0.0005414942861534655)]\n",
            "\n",
            "king - man + woman ≈ his\n"
          ]
        }
      ]
    }
  ]
}