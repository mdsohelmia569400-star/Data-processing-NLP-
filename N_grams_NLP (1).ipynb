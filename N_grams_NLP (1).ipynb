{
  "nbformat": 4,
  "nbformat_minor": 0,
  "metadata": {
    "colab": {
      "provenance": []
    },
    "kernelspec": {
      "name": "python3",
      "display_name": "Python 3"
    }
  },
  "cells": [
    {
      "cell_type": "code",
      "metadata": {
        "id": "OcJlmECFqhiq"
      },
      "source": [
        "import re"
      ],
      "execution_count": null,
      "outputs": []
    },
    {
      "cell_type": "code",
      "metadata": {
        "id": "GJSlvFr3N4u2"
      },
      "source": [
        "#Natural Language Processing, or NLP for short, n-grams are used for a variety of things. Some examples include auto\n",
        "#completion of sentences (such as the one we see in Gmail these days), auto spell check (yes, we can do that as well), and to a\n",
        "#certain extent, we can check for grammar in a given sentence."
      ],
      "execution_count": null,
      "outputs": []
    },
    {
      "cell_type": "code",
      "metadata": {
        "id": "ChVH9wDWqk0-"
      },
      "source": [
        "def N_Grams(text,n):\n",
        "    # split sentences into tokens\n",
        "    tokens=re.split(\"\\\\s+\",text)\n",
        "    ngrams=[]\n",
        "    # collect the n-grams\n",
        "    for i in range(len(tokens)-n+1):\n",
        "     temp=[tokens[j] for j in range(i,i+n)]\n",
        "     ngrams.append(\" \".join(temp))\n",
        "    return ngrams"
      ],
      "execution_count": null,
      "outputs": []
    },
    {
      "cell_type": "code",
      "metadata": {
        "id": "LkIwOKdLLDGR"
      },
      "source": [
        "text1=\"the quick brown fox jumps the lazy dog\";"
      ],
      "execution_count": null,
      "outputs": []
    },
    {
      "cell_type": "code",
      "metadata": {
        "id": "2JK_zXR4LcwV",
        "colab": {
          "base_uri": "https://localhost:8080/"
        },
        "outputId": "1e7843e1-2616-47ea-f530-2873dd5fa662"
      },
      "source": [
        "N_Grams(text1,1)"
      ],
      "execution_count": null,
      "outputs": [
        {
          "output_type": "execute_result",
          "data": {
            "text/plain": [
              "['the', 'quick', 'brown', 'fox', 'jumps', 'the', 'lazy', 'dog']"
            ]
          },
          "metadata": {},
          "execution_count": 5
        }
      ]
    },
    {
      "cell_type": "code",
      "metadata": {
        "id": "4FGYganlLp20",
        "colab": {
          "base_uri": "https://localhost:8080/"
        },
        "outputId": "0f6113ba-56c6-459b-c79e-6e7262fbb467"
      },
      "source": [
        "N_Grams(text1,2)"
      ],
      "execution_count": null,
      "outputs": [
        {
          "output_type": "execute_result",
          "data": {
            "text/plain": [
              "['the quick',\n",
              " 'quick brown',\n",
              " 'brown fox',\n",
              " 'fox jumps',\n",
              " 'jumps the',\n",
              " 'the lazy',\n",
              " 'lazy dog']"
            ]
          },
          "metadata": {},
          "execution_count": 6
        }
      ]
    },
    {
      "cell_type": "code",
      "metadata": {
        "id": "NI3o7NYAMC2D",
        "colab": {
          "base_uri": "https://localhost:8080/"
        },
        "outputId": "02116e1b-1c65-4902-88d3-a7c9d7341f5a"
      },
      "source": [
        "N_Grams(text1,3)"
      ],
      "execution_count": null,
      "outputs": [
        {
          "output_type": "execute_result",
          "data": {
            "text/plain": [
              "['the quick brown',\n",
              " 'quick brown fox',\n",
              " 'brown fox jumps',\n",
              " 'fox jumps the',\n",
              " 'jumps the lazy',\n",
              " 'the lazy dog']"
            ]
          },
          "metadata": {},
          "execution_count": 7
        }
      ]
    },
    {
      "cell_type": "code",
      "metadata": {
        "id": "pAAKwfChMEfD"
      },
      "source": [],
      "execution_count": null,
      "outputs": []
    }
  ]
}