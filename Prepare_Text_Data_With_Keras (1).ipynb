{
  "nbformat": 4,
  "nbformat_minor": 0,
  "metadata": {
    "colab": {
      "provenance": []
    },
    "kernelspec": {
      "name": "python3",
      "display_name": "Python 3"
    }
  },
  "cells": [
    {
      "cell_type": "markdown",
      "metadata": {
        "id": "i5HB9SG63i8X"
      },
      "source": [
        "#Data Clearning with Kears\n",
        "##Split Words with text to word sequence\n",
        "A good first step when working with text is to split it into words. Words are called tokens and the process of splitting text into\n",
        " tokens is called tokenization. Keras provides the text to word sequence() function that you can use to split text into a list of words.\n",
        " Bydefault, this function automatically does 3 things:\n",
        "\n",
        " Splits words by space.\n",
        "\n",
        " Filters out punctuation.\n",
        "\n",
        " Converts text to lowercase (lower=True)."
      ]
    },
    {
      "cell_type": "code",
      "metadata": {
        "id": "LrHX5ZJn2o4K",
        "colab": {
          "base_uri": "https://localhost:8080/"
        },
        "outputId": "c612e27b-b306-4654-dc3a-d47585721fb7"
      },
      "source": [
        "from tensorflow.keras.preprocessing.text import text_to_word_sequence  #from keras.preprocessing.text import text_to_word_sequence\n",
        "# define the document\n",
        "text = 'The quick brown fox jumped over the lazy dog.'\n",
        "# tokenize the document\n",
        "result = text_to_word_sequence(text)\n",
        "print(result)\n"
      ],
      "execution_count": null,
      "outputs": [
        {
          "output_type": "stream",
          "name": "stdout",
          "text": [
            "['the', 'quick', 'brown', 'fox', 'jumped', 'over', 'the', 'lazy', 'dog']\n"
          ]
        }
      ]
    },
    {
      "cell_type": "markdown",
      "metadata": {
        "id": "Ch9reWm03wF1"
      },
      "source": [
        "#Encoding with one hot\n",
        "Keras provides the one hot() function that you can use to tokenize and integer encode a text document in one step. The name suggests that it\n",
        "will create a one hot encoding of the document, which is not the case. Instead, the function is a wrapper for the hashing trick() function. The function returns an integer encoded version of the document. The use of a hash function means that there may be collisions and not all words will be assigned unique integer values. As with the text to word sequence() function in the previous section, the one hot() function will make  the text lower case, filter out punctuation, and split words based on white space.\n",
        "\n",
        "Running the example first prints the size of the vocabulary as 8. The encoded document is then printed as an array of integer encoded words.\n"
      ]
    },
    {
      "cell_type": "code",
      "metadata": {
        "id": "_VYVh-wH2sJ3",
        "colab": {
          "base_uri": "https://localhost:8080/"
        },
        "outputId": "752baf35-d178-4b24-eb18-9e4d5266d355"
      },
      "source": [
        "from tensorflow.keras.preprocessing.text import text_to_word_sequence  #from keras.preprocessing.text import text_to_word_sequence\n",
        "# define the document\n",
        "text = 'The quick brown fox jumped over the lazy dog.'\n",
        "# estimate the size of the vocabulary\n",
        "words = set(text_to_word_sequence(text))\n",
        "vocab_size = len(words)\n",
        "print(vocab_size)\n"
      ],
      "execution_count": null,
      "outputs": [
        {
          "output_type": "stream",
          "name": "stdout",
          "text": [
            "8\n"
          ]
        }
      ]
    },
    {
      "cell_type": "code",
      "metadata": {
        "id": "XZw-PIoe3TWA",
        "colab": {
          "base_uri": "https://localhost:8080/"
        },
        "outputId": "a7886e45-0bcc-417f-e7e1-048f7109f3b7"
      },
      "source": [
        "from tensorflow.keras.preprocessing.text import one_hot\n",
        "from tensorflow.keras.preprocessing.text import text_to_word_sequence #from keras.preprocessing.text import text_to_word_sequence\n",
        "# define the document\n",
        "text = 'The quick brown fox jumped over the lazy dog.'\n",
        "# estimate the size of the vocabulary\n",
        "words = set(text_to_word_sequence(text))\n",
        "vocab_size = len(words)\n",
        "print(vocab_size)\n",
        "# integer encode the document\n",
        "result = one_hot(text, round(vocab_size*1.3))\n",
        "print(result)"
      ],
      "execution_count": null,
      "outputs": [
        {
          "output_type": "stream",
          "name": "stdout",
          "text": [
            "8\n",
            "[4, 4, 8, 9, 7, 6, 4, 8, 1]\n"
          ]
        }
      ]
    },
    {
      "cell_type": "markdown",
      "metadata": {
        "id": "2xPmHRak34at"
      },
      "source": [
        "#Hash Encoding with hashing trick\n",
        "Keras provides the hashing trick() function that tokenizes and then integer encodes the\n",
        "document, just like the one hot() function. It provides more flexibility, allowing you to specify\n",
        "the hash function as either hash (the default) or other hash functions such as the built in md5\n",
        "function or your own function. Below is an example of integer encoding a document using the\n",
        "md5 hash function"
      ]
    },
    {
      "cell_type": "code",
      "metadata": {
        "id": "OZb90LpD3dT_",
        "colab": {
          "base_uri": "https://localhost:8080/"
        },
        "outputId": "d2ea3c3b-a0e1-455f-a763-e5e84355ad60"
      },
      "source": [
        "from tensorflow.keras.preprocessing.text import hashing_trick\n",
        "from tensorflow.keras.preprocessing.text import text_to_word_sequence\n",
        "# define the document\n",
        "text = 'The quick brown fox jumped over the lazy dog.'\n",
        "# estimate the size of the vocabulary\n",
        "words = set(text_to_word_sequence(text))\n",
        "vocab_size = len(words)\n",
        "print(vocab_size)\n",
        "# integer encode the document\n",
        "result = hashing_trick(text, round(vocab_size*1.3), hash_function='md5')\n",
        "print(result)\n"
      ],
      "execution_count": null,
      "outputs": [
        {
          "output_type": "stream",
          "name": "stdout",
          "text": [
            "8\n",
            "[6, 4, 1, 2, 7, 5, 6, 2, 6]\n"
          ]
        }
      ]
    },
    {
      "cell_type": "markdown",
      "metadata": {
        "id": "SQwjbMWM4HAr"
      },
      "source": [
        "#Tokenizer API\n",
        "Keras provides a more sophisticated API for preparing text that can be fit and reused to prepare multiple text documents. This may be the preferred approach for large projects. Keras provides the Tokenizer class for preparing text documents for deep learning. The Tokenizer must be constructed and then fit on either raw text documents or integer encoded text documents."
      ]
    },
    {
      "cell_type": "code",
      "metadata": {
        "id": "NP007YXd4CQV"
      },
      "source": [
        "from tensorflow.keras.preprocessing.text import Tokenizer\n",
        "# define 5 documents\n",
        "docs = ['Well done!',\n",
        "'Good work',\n",
        "'Great effort',\n",
        "'nice work',\n",
        "'Excellent!']\n",
        "# create the tokenizer\n",
        "t = Tokenizer()\n",
        "# fit the tokenizer on the documents\n",
        "t.fit_on_texts(docs)"
      ],
      "execution_count": null,
      "outputs": []
    },
    {
      "cell_type": "markdown",
      "metadata": {
        "id": "W2k4UiLX4VCi"
      },
      "source": [
        "Once fit, the Tokenizer provides 4 attributes that you can use to query what has been learned about your documents:\n",
        "\n",
        " word counts: A dictionary of words and their counts.\n",
        "\n",
        " word docs: An integer count of the total number of documents that were used to fit the Tokenizer.\n",
        "\n",
        " word index: A dictionary of words and their uniquely assigned integers.\n",
        "\n",
        " document count: A dictionary of words and how many documents each appeared in."
      ]
    },
    {
      "cell_type": "code",
      "metadata": {
        "id": "Fq1AKYd74UXS",
        "colab": {
          "base_uri": "https://localhost:8080/"
        },
        "outputId": "ab4c4fc2-67d1-4cdc-9b7f-4a557a7070c7"
      },
      "source": [
        "# summarize what was learned\n",
        "print(t.word_counts)\n",
        "print(t.document_count)\n",
        "print(t.word_index)\n",
        "print(t.word_docs)"
      ],
      "execution_count": null,
      "outputs": [
        {
          "output_type": "stream",
          "name": "stdout",
          "text": [
            "OrderedDict({'well': 1, 'done': 1, 'good': 1, 'work': 2, 'great': 1, 'effort': 1, 'nice': 1, 'excellent': 1})\n",
            "5\n",
            "{'work': 1, 'well': 2, 'done': 3, 'good': 4, 'great': 5, 'effort': 6, 'nice': 7, 'excellent': 8}\n",
            "defaultdict(<class 'int'>, {'well': 1, 'done': 1, 'good': 1, 'work': 2, 'great': 1, 'effort': 1, 'nice': 1, 'excellent': 1})\n"
          ]
        }
      ]
    },
    {
      "cell_type": "markdown",
      "metadata": {
        "id": "RPCdpUyQ4hKA"
      },
      "source": [
        "Once the Tokenizer has been fit on training data, it can be used to encode documents in the train or test datasets. The texts to matrix() function on the Tokenizer can be used to create one vector per document provided per input. The length of the vectors is the total size of the vocabulary. This function provides a suite of standard bag-of-words model text encoding schemes that can be provided via a mode argument to the function. The modes available include:\n",
        "\n",
        " binary: Whether or not each word is present in the document. This is the default.\n",
        "\n",
        " count: The count of each word in the document.\n",
        "\n",
        " tfidf: The Text Frequency-Inverse DocumentFrequency (TF-IDF) scoring for each word in the document.\n",
        "\n",
        " freq: The frequency of each word as a ratio of words within each document."
      ]
    },
    {
      "cell_type": "code",
      "metadata": {
        "id": "W3FrhSpCqZKN",
        "colab": {
          "base_uri": "https://localhost:8080/"
        },
        "outputId": "53a1bd66-bed9-4496-86e3-cdb16ff60833"
      },
      "source": [
        "from tensorflow.keras.preprocessing.text import Tokenizer\n",
        "# define 5 documents\n",
        "docs = ['Well done!',\n",
        "'Good work',\n",
        "'Great effort',\n",
        "'nice work',\n",
        "'Excellent!']\n",
        "# create the tokenizer\n",
        "t = Tokenizer()\n",
        "# fit the tokenizer on the documents\n",
        "t.fit_on_texts(docs)\n",
        "# summarize what was learned\n",
        "print(t.word_counts)\n",
        "print(t.document_count)\n",
        "print(t.word_index)\n",
        "print(t.word_docs)\n",
        "# integer encode documents\n",
        "encoded_docs = t.texts_to_matrix(docs, mode='count')\n",
        "print(encoded_docs)\n"
      ],
      "execution_count": null,
      "outputs": [
        {
          "output_type": "stream",
          "name": "stdout",
          "text": [
            "OrderedDict({'well': 1, 'done': 1, 'good': 1, 'work': 2, 'great': 1, 'effort': 1, 'nice': 1, 'excellent': 1})\n",
            "5\n",
            "{'work': 1, 'well': 2, 'done': 3, 'good': 4, 'great': 5, 'effort': 6, 'nice': 7, 'excellent': 8}\n",
            "defaultdict(<class 'int'>, {'well': 1, 'done': 1, 'good': 1, 'work': 2, 'great': 1, 'effort': 1, 'nice': 1, 'excellent': 1})\n",
            "[[0. 0. 1. 1. 0. 0. 0. 0. 0.]\n",
            " [0. 1. 0. 0. 1. 0. 0. 0. 0.]\n",
            " [0. 0. 0. 0. 0. 1. 1. 0. 0.]\n",
            " [0. 1. 0. 0. 0. 0. 0. 1. 0.]\n",
            " [0. 0. 0. 0. 0. 0. 0. 0. 1.]]\n"
          ]
        }
      ]
    },
    {
      "cell_type": "code",
      "metadata": {
        "id": "sMY0VGcwqZs8"
      },
      "source": [],
      "execution_count": null,
      "outputs": []
    }
  ]
}